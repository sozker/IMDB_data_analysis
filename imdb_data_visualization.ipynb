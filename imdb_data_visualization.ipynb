{
 "cells": [
  {
   "cell_type": "markdown",
   "metadata": {},
   "source": [
    "### Importing necessary libraries"
   ]
  },
  {
   "cell_type": "code",
   "execution_count": 2,
   "metadata": {},
   "outputs": [],
   "source": [
    "import numpy as np\n",
    "import pandas as pd\n",
    "import csv\n",
    "\n",
    "import matplotlib.pyplot as plt\n",
    "import seaborn as sns\n",
    "%matplotlib inline"
   ]
  },
  {
   "cell_type": "markdown",
   "metadata": {},
   "source": [
    "Movie details and rating data are kept in different tsv files. I imported these files seperately and did some visualizations with it."
   ]
  },
  {
   "cell_type": "markdown",
   "metadata": {},
   "source": [
    "### Ratings data"
   ]
  },
  {
   "cell_type": "code",
   "execution_count": 3,
   "metadata": {},
   "outputs": [],
   "source": [
    "rating_data = []\n",
    "\n",
    "with open('rating.tsv') as tsvfile:\n",
    "  reader = csv.reader(tsvfile, delimiter='\\t')\n",
    "  for row in reader:\n",
    "    movie_id = row[0]\n",
    "    rating = row[1]\n",
    "    num_votes = row[2]\n",
    "    rating_data.append([movie_id,rating,num_votes])"
   ]
  },
  {
   "cell_type": "code",
   "execution_count": 4,
   "metadata": {},
   "outputs": [
    {
     "data": {
      "text/html": [
       "<div>\n",
       "<style scoped>\n",
       "    .dataframe tbody tr th:only-of-type {\n",
       "        vertical-align: middle;\n",
       "    }\n",
       "\n",
       "    .dataframe tbody tr th {\n",
       "        vertical-align: top;\n",
       "    }\n",
       "\n",
       "    .dataframe thead th {\n",
       "        text-align: right;\n",
       "    }\n",
       "</style>\n",
       "<table border=\"1\" class=\"dataframe\">\n",
       "  <thead>\n",
       "    <tr style=\"text-align: right;\">\n",
       "      <th></th>\n",
       "      <th>movie_id</th>\n",
       "      <th>rating</th>\n",
       "      <th>num_votes</th>\n",
       "    </tr>\n",
       "  </thead>\n",
       "  <tbody>\n",
       "    <tr>\n",
       "      <th>1</th>\n",
       "      <td>tt0000001</td>\n",
       "      <td>5.6</td>\n",
       "      <td>1592</td>\n",
       "    </tr>\n",
       "    <tr>\n",
       "      <th>2</th>\n",
       "      <td>tt0000002</td>\n",
       "      <td>6.1</td>\n",
       "      <td>194</td>\n",
       "    </tr>\n",
       "    <tr>\n",
       "      <th>3</th>\n",
       "      <td>tt0000003</td>\n",
       "      <td>6.5</td>\n",
       "      <td>1267</td>\n",
       "    </tr>\n",
       "    <tr>\n",
       "      <th>4</th>\n",
       "      <td>tt0000004</td>\n",
       "      <td>6.2</td>\n",
       "      <td>120</td>\n",
       "    </tr>\n",
       "    <tr>\n",
       "      <th>5</th>\n",
       "      <td>tt0000005</td>\n",
       "      <td>6.1</td>\n",
       "      <td>2028</td>\n",
       "    </tr>\n",
       "  </tbody>\n",
       "</table>\n",
       "</div>"
      ],
      "text/plain": [
       "    movie_id  rating  num_votes\n",
       "1  tt0000001     5.6       1592\n",
       "2  tt0000002     6.1        194\n",
       "3  tt0000003     6.5       1267\n",
       "4  tt0000004     6.2        120\n",
       "5  tt0000005     6.1       2028"
      ]
     },
     "execution_count": 4,
     "metadata": {},
     "output_type": "execute_result"
    }
   ],
   "source": [
    "# converting rating_data to a dataframe\n",
    "rating_df = pd.DataFrame(rating_data, columns=[\"movie_id\",\"rating\",\"num_votes\"])\n",
    "rating_df.drop(0, inplace=True)\n",
    "\n",
    "# deleting rating_data to open some space\n",
    "rating_data = []\n",
    "\n",
    "# columns are imported as object so I convert them to proper data type\n",
    "rating_df.rating = rating_df.rating.astype('float')\n",
    "rating_df.num_votes = rating_df.num_votes.astype('int') \n",
    "\n",
    "rating_df.head()"
   ]
  },
  {
   "cell_type": "code",
   "execution_count": 5,
   "metadata": {},
   "outputs": [
    {
     "name": "stdout",
     "output_type": "stream",
     "text": [
      "<class 'pandas.core.frame.DataFrame'>\n",
      "Int64Index: 1020518 entries, 1 to 1020518\n",
      "Data columns (total 3 columns):\n",
      "movie_id     1020518 non-null object\n",
      "rating       1020518 non-null float64\n",
      "num_votes    1020518 non-null int32\n",
      "dtypes: float64(1), int32(1), object(1)\n",
      "memory usage: 27.3+ MB\n"
     ]
    }
   ],
   "source": [
    "rating_df.info()"
   ]
  },
  {
   "cell_type": "markdown",
   "metadata": {},
   "source": [
    "distplot for rating column"
   ]
  },
  {
   "cell_type": "code",
   "execution_count": 6,
   "metadata": {},
   "outputs": [
    {
     "data": {
      "image/png": "[encoded data removed]",
      "text/plain": [
       "<Figure size 1080x288 with 1 Axes>"
      ]
     },
     "metadata": {
      "needs_background": "light"
     },
     "output_type": "display_data"
    }
   ],
   "source": [
    "plt.figure(figsize=(15,4));\n",
    "sns.distplot(rating_df['rating'], kde=False, bins=100);\n",
    "plt.title('Distribution of IMDB ratings');\n",
    "plt.ylabel('count');"
   ]
  },
  {
   "cell_type": "markdown",
   "metadata": {},
   "source": [
    "barplot for rating in a different dataframe"
   ]
  },
  {
   "cell_type": "code",
   "execution_count": 7,
   "metadata": {},
   "outputs": [
    {
     "data": {
      "text/html": [
       "<div>\n",
       "<style scoped>\n",
       "    .dataframe tbody tr th:only-of-type {\n",
       "        vertical-align: middle;\n",
       "    }\n",
       "\n",
       "    .dataframe tbody tr th {\n",
       "        vertical-align: top;\n",
       "    }\n",
       "\n",
       "    .dataframe thead th {\n",
       "        text-align: right;\n",
       "    }\n",
       "</style>\n",
       "<table border=\"1\" class=\"dataframe\">\n",
       "  <thead>\n",
       "    <tr style=\"text-align: right;\">\n",
       "      <th></th>\n",
       "      <th>rating</th>\n",
       "      <th>total_count</th>\n",
       "    </tr>\n",
       "  </thead>\n",
       "  <tbody>\n",
       "    <tr>\n",
       "      <th>0</th>\n",
       "      <td>1.0</td>\n",
       "      <td>920</td>\n",
       "    </tr>\n",
       "    <tr>\n",
       "      <th>1</th>\n",
       "      <td>1.1</td>\n",
       "      <td>241</td>\n",
       "    </tr>\n",
       "    <tr>\n",
       "      <th>2</th>\n",
       "      <td>1.2</td>\n",
       "      <td>274</td>\n",
       "    </tr>\n",
       "    <tr>\n",
       "      <th>3</th>\n",
       "      <td>1.3</td>\n",
       "      <td>235</td>\n",
       "    </tr>\n",
       "    <tr>\n",
       "      <th>4</th>\n",
       "      <td>1.4</td>\n",
       "      <td>316</td>\n",
       "    </tr>\n",
       "  </tbody>\n",
       "</table>\n",
       "</div>"
      ],
      "text/plain": [
       "   rating  total_count\n",
       "0     1.0          920\n",
       "1     1.1          241\n",
       "2     1.2          274\n",
       "3     1.3          235\n",
       "4     1.4          316"
      ]
     },
     "execution_count": 7,
     "metadata": {},
     "output_type": "execute_result"
    }
   ],
   "source": [
    "df2 = rating_df.groupby('rating').count()\n",
    "df2 = df2.reset_index()\n",
    "df2 = df2.drop('num_votes', axis=1)\n",
    "df2.rename(columns={\"movie_id\": \"total_count\"}, inplace=True)\n",
    "df2.head()"
   ]
  },
  {
   "cell_type": "code",
   "execution_count": 8,
   "metadata": {},
   "outputs": [
    {
     "data": {
      "image/png": "[encoded data removed]",
      "text/plain": [
       "<Figure size 576x1080 with 1 Axes>"
      ]
     },
     "metadata": {
      "needs_background": "light"
     },
     "output_type": "display_data"
    }
   ],
   "source": [
    "plt.figure(figsize=(8,15));\n",
    "sns.barplot(x='total_count', y='rating', data=df2, orient='h');\n",
    "plt.title('Distribution of IMDB ratings');\n",
    "plt.tight_layout()"
   ]
  },
  {
   "cell_type": "markdown",
   "metadata": {},
   "source": [
    "### Movie data"
   ]
  },
  {
   "cell_type": "markdown",
   "metadata": {},
   "source": [
    "Sometimes the code produced an error so I used try for that."
   ]
  },
  {
   "cell_type": "code",
   "execution_count": 9,
   "metadata": {},
   "outputs": [
    {
     "name": "stdout",
     "output_type": "stream",
     "text": [
      "Rolling in the Deep Dish\tRolling in the Deep Dish\n",
      "The IMDb Show on Location: Star Wars Galaxy's Edge\tThe IMDb Show on Location: Star Wars Galaxy's Edge\n",
      "Die Bauhaus-Stadt Tel Aviv - Vorbild für die Metropolen der Moderne?\tDie Bauhaus-Stadt Tel Aviv - Vorbild für die Metropolen der Moderne?\n",
      "...ein angenehmer Unbequemer...\t...ein angenehmer Unbequemer...\n",
      "GGN Heavyweight Championship Lungs With Mike Tyson and Snoop\tGGN Heavyweight Championship Lungs With Mike Tyson and Snoop\n",
      "No sufras por la alergia esta primavera\tNo sufras por la alergia esta primavera\n",
      "I'm Not Going to Come Last, I'm Just Going to Die on The Amazing Race\tI'm Not Going to Come Last, I'm Just Going to Die on The Amazing Race\n",
      "Weight Loss Resolution Restart - Ins & Outs of Menopause, PeriMenopause & Hormones\tWeight Loss Resolution Restart - Ins & Outs of Menopause, PeriMenopause & Hormones\n",
      "Zwischen Vertuschung und Aufklärung - Missbrauchsgipfel im Vatikan\tZwischen Vertuschung und Aufklärung - Missbrauchsgipfel im Vatikan\n",
      "The Direction of Yuu's Love: Hings Aren't Going As Planned\tThe Direction of Yuu's Love: Hings Aren't Going As Planned\n",
      "Politik und/oder Moral - Wie weit geht das Vertrauen der Bürger?\tPolitik und/oder Moral - Wie weit geht das Vertrauen der Bürger?\n"
     ]
    }
   ],
   "source": [
    "movie_data = []\n",
    "\n",
    "with open('title.tsv', encoding='utf-8') as tsvfile:\n",
    "  reader = csv.reader(tsvfile, delimiter='\\t')\n",
    "  for row in reader:\n",
    "        try:\n",
    "            movie_id = row[0]\n",
    "            titleType = row[1]\n",
    "            primaryTitle = row[2]\n",
    "            originalTitle = row[3]\n",
    "            isAdult = row[4]\n",
    "            startYear = row[5]\n",
    "            endYear = row[6]\n",
    "            runtimeMinutes = row[7]\n",
    "            genres = row[8]\n",
    "            #print(row)\n",
    "            #print(genres)\n",
    "            #genre = genres.split(',')[0]\n",
    "\n",
    "        except:\n",
    "            print(primaryTitle)\n",
    "    \n",
    "        movie_data.append([movie_id,titleType,primaryTitle,originalTitle,isAdult,startYear,endYear,runtimeMinutes,genres])"
   ]
  },
  {
   "cell_type": "code",
   "execution_count": 10,
   "metadata": {},
   "outputs": [
    {
     "data": {
      "text/html": [
       "<div>\n",
       "<style scoped>\n",
       "    .dataframe tbody tr th:only-of-type {\n",
       "        vertical-align: middle;\n",
       "    }\n",
       "\n",
       "    .dataframe tbody tr th {\n",
       "        vertical-align: top;\n",
       "    }\n",
       "\n",
       "    .dataframe thead th {\n",
       "        text-align: right;\n",
       "    }\n",
       "</style>\n",
       "<table border=\"1\" class=\"dataframe\">\n",
       "  <thead>\n",
       "    <tr style=\"text-align: right;\">\n",
       "      <th></th>\n",
       "      <th>movie_id</th>\n",
       "      <th>titleType</th>\n",
       "      <th>primaryTitle</th>\n",
       "      <th>originalTitle</th>\n",
       "      <th>isAdult</th>\n",
       "      <th>startYear</th>\n",
       "      <th>endYear</th>\n",
       "      <th>runtimeMinutes</th>\n",
       "      <th>genres</th>\n",
       "    </tr>\n",
       "  </thead>\n",
       "  <tbody>\n",
       "    <tr>\n",
       "      <th>1</th>\n",
       "      <td>tt0000001</td>\n",
       "      <td>short</td>\n",
       "      <td>Carmencita</td>\n",
       "      <td>Carmencita</td>\n",
       "      <td>0</td>\n",
       "      <td>1894</td>\n",
       "      <td>\\N</td>\n",
       "      <td>1</td>\n",
       "      <td>Documentary,Short</td>\n",
       "    </tr>\n",
       "    <tr>\n",
       "      <th>2</th>\n",
       "      <td>tt0000002</td>\n",
       "      <td>short</td>\n",
       "      <td>Le clown et ses chiens</td>\n",
       "      <td>Le clown et ses chiens</td>\n",
       "      <td>0</td>\n",
       "      <td>1892</td>\n",
       "      <td>\\N</td>\n",
       "      <td>5</td>\n",
       "      <td>Animation,Short</td>\n",
       "    </tr>\n",
       "    <tr>\n",
       "      <th>3</th>\n",
       "      <td>tt0000003</td>\n",
       "      <td>short</td>\n",
       "      <td>Pauvre Pierrot</td>\n",
       "      <td>Pauvre Pierrot</td>\n",
       "      <td>0</td>\n",
       "      <td>1892</td>\n",
       "      <td>\\N</td>\n",
       "      <td>4</td>\n",
       "      <td>\\N</td>\n",
       "    </tr>\n",
       "    <tr>\n",
       "      <th>4</th>\n",
       "      <td>tt0000004</td>\n",
       "      <td>short</td>\n",
       "      <td>Un bon bock</td>\n",
       "      <td>Un bon bock</td>\n",
       "      <td>0</td>\n",
       "      <td>1892</td>\n",
       "      <td>\\N</td>\n",
       "      <td>12</td>\n",
       "      <td>\\N</td>\n",
       "    </tr>\n",
       "    <tr>\n",
       "      <th>5</th>\n",
       "      <td>tt0000005</td>\n",
       "      <td>short</td>\n",
       "      <td>Blacksmith Scene</td>\n",
       "      <td>Blacksmith Scene</td>\n",
       "      <td>0</td>\n",
       "      <td>1893</td>\n",
       "      <td>\\N</td>\n",
       "      <td>1</td>\n",
       "      <td>Comedy,Short</td>\n",
       "    </tr>\n",
       "  </tbody>\n",
       "</table>\n",
       "</div>"
      ],
      "text/plain": [
       "    movie_id titleType            primaryTitle           originalTitle  \\\n",
       "1  tt0000001     short              Carmencita              Carmencita   \n",
       "2  tt0000002     short  Le clown et ses chiens  Le clown et ses chiens   \n",
       "3  tt0000003     short          Pauvre Pierrot          Pauvre Pierrot   \n",
       "4  tt0000004     short             Un bon bock             Un bon bock   \n",
       "5  tt0000005     short        Blacksmith Scene        Blacksmith Scene   \n",
       "\n",
       "  isAdult startYear endYear runtimeMinutes             genres  \n",
       "1       0      1894      \\N              1  Documentary,Short  \n",
       "2       0      1892      \\N              5    Animation,Short  \n",
       "3       0      1892      \\N              4                 \\N  \n",
       "4       0      1892      \\N             12                 \\N  \n",
       "5       0      1893      \\N              1       Comedy,Short  "
      ]
     },
     "execution_count": 10,
     "metadata": {},
     "output_type": "execute_result"
    }
   ],
   "source": [
    "# converting movie_data to a dataframe\n",
    "movie_df = pd.DataFrame(movie_data, columns=[\"movie_id\",\"titleType\",\"primaryTitle\",\"originalTitle\",\"isAdult\",\"startYear\",\"endYear\",\"runtimeMinutes\",\"genres\"])\n",
    "movie_df.drop(0, inplace=True)\n",
    "\n",
    "# deleting movie data\n",
    "movie_data = []\n",
    "\n",
    "movie_df.head()"
   ]
  },
  {
   "cell_type": "markdown",
   "metadata": {},
   "source": [
    "I've checked it out and realized that genres data is wrong for single genre movies in IMDB. That's strange."
   ]
  },
  {
   "cell_type": "markdown",
   "metadata": {},
   "source": [
    "### Merging datasets"
   ]
  },
  {
   "cell_type": "code",
   "execution_count": 11,
   "metadata": {},
   "outputs": [
    {
     "data": {
      "text/html": [
       "<div>\n",
       "<style scoped>\n",
       "    .dataframe tbody tr th:only-of-type {\n",
       "        vertical-align: middle;\n",
       "    }\n",
       "\n",
       "    .dataframe tbody tr th {\n",
       "        vertical-align: top;\n",
       "    }\n",
       "\n",
       "    .dataframe thead th {\n",
       "        text-align: right;\n",
       "    }\n",
       "</style>\n",
       "<table border=\"1\" class=\"dataframe\">\n",
       "  <thead>\n",
       "    <tr style=\"text-align: right;\">\n",
       "      <th></th>\n",
       "      <th>movie_id</th>\n",
       "      <th>titleType</th>\n",
       "      <th>primaryTitle</th>\n",
       "      <th>originalTitle</th>\n",
       "      <th>isAdult</th>\n",
       "      <th>startYear</th>\n",
       "      <th>endYear</th>\n",
       "      <th>runtimeMinutes</th>\n",
       "      <th>genres</th>\n",
       "      <th>rating</th>\n",
       "      <th>num_votes</th>\n",
       "    </tr>\n",
       "  </thead>\n",
       "  <tbody>\n",
       "    <tr>\n",
       "      <th>0</th>\n",
       "      <td>tt0000001</td>\n",
       "      <td>short</td>\n",
       "      <td>Carmencita</td>\n",
       "      <td>Carmencita</td>\n",
       "      <td>0</td>\n",
       "      <td>1894</td>\n",
       "      <td>\\N</td>\n",
       "      <td>1</td>\n",
       "      <td>Documentary,Short</td>\n",
       "      <td>5.6</td>\n",
       "      <td>1592</td>\n",
       "    </tr>\n",
       "    <tr>\n",
       "      <th>1</th>\n",
       "      <td>tt0000002</td>\n",
       "      <td>short</td>\n",
       "      <td>Le clown et ses chiens</td>\n",
       "      <td>Le clown et ses chiens</td>\n",
       "      <td>0</td>\n",
       "      <td>1892</td>\n",
       "      <td>\\N</td>\n",
       "      <td>5</td>\n",
       "      <td>Animation,Short</td>\n",
       "      <td>6.1</td>\n",
       "      <td>194</td>\n",
       "    </tr>\n",
       "    <tr>\n",
       "      <th>2</th>\n",
       "      <td>tt0000003</td>\n",
       "      <td>short</td>\n",
       "      <td>Pauvre Pierrot</td>\n",
       "      <td>Pauvre Pierrot</td>\n",
       "      <td>0</td>\n",
       "      <td>1892</td>\n",
       "      <td>\\N</td>\n",
       "      <td>4</td>\n",
       "      <td>\\N</td>\n",
       "      <td>6.5</td>\n",
       "      <td>1267</td>\n",
       "    </tr>\n",
       "    <tr>\n",
       "      <th>3</th>\n",
       "      <td>tt0000004</td>\n",
       "      <td>short</td>\n",
       "      <td>Un bon bock</td>\n",
       "      <td>Un bon bock</td>\n",
       "      <td>0</td>\n",
       "      <td>1892</td>\n",
       "      <td>\\N</td>\n",
       "      <td>12</td>\n",
       "      <td>\\N</td>\n",
       "      <td>6.2</td>\n",
       "      <td>120</td>\n",
       "    </tr>\n",
       "    <tr>\n",
       "      <th>4</th>\n",
       "      <td>tt0000005</td>\n",
       "      <td>short</td>\n",
       "      <td>Blacksmith Scene</td>\n",
       "      <td>Blacksmith Scene</td>\n",
       "      <td>0</td>\n",
       "      <td>1893</td>\n",
       "      <td>\\N</td>\n",
       "      <td>1</td>\n",
       "      <td>Comedy,Short</td>\n",
       "      <td>6.1</td>\n",
       "      <td>2028</td>\n",
       "    </tr>\n",
       "  </tbody>\n",
       "</table>\n",
       "</div>"
      ],
      "text/plain": [
       "    movie_id titleType            primaryTitle           originalTitle  \\\n",
       "0  tt0000001     short              Carmencita              Carmencita   \n",
       "1  tt0000002     short  Le clown et ses chiens  Le clown et ses chiens   \n",
       "2  tt0000003     short          Pauvre Pierrot          Pauvre Pierrot   \n",
       "3  tt0000004     short             Un bon bock             Un bon bock   \n",
       "4  tt0000005     short        Blacksmith Scene        Blacksmith Scene   \n",
       "\n",
       "  isAdult startYear endYear runtimeMinutes             genres  rating  \\\n",
       "0       0      1894      \\N              1  Documentary,Short     5.6   \n",
       "1       0      1892      \\N              5    Animation,Short     6.1   \n",
       "2       0      1892      \\N              4                 \\N     6.5   \n",
       "3       0      1892      \\N             12                 \\N     6.2   \n",
       "4       0      1893      \\N              1       Comedy,Short     6.1   \n",
       "\n",
       "   num_votes  \n",
       "0       1592  \n",
       "1        194  \n",
       "2       1267  \n",
       "3        120  \n",
       "4       2028  "
      ]
     },
     "execution_count": 11,
     "metadata": {},
     "output_type": "execute_result"
    }
   ],
   "source": [
    "movie_df = pd.merge(movie_df, rating_df, how='inner', on=['movie_id'])\n",
    "movie_df.head()"
   ]
  },
  {
   "cell_type": "code",
   "execution_count": 12,
   "metadata": {},
   "outputs": [
    {
     "name": "stdout",
     "output_type": "stream",
     "text": [
      "<class 'pandas.core.frame.DataFrame'>\n",
      "Int64Index: 1020518 entries, 0 to 1020517\n",
      "Data columns (total 11 columns):\n",
      "movie_id          1020518 non-null object\n",
      "titleType         1020518 non-null object\n",
      "primaryTitle      1020518 non-null object\n",
      "originalTitle     1020518 non-null object\n",
      "isAdult           1020518 non-null object\n",
      "startYear         1020518 non-null object\n",
      "endYear           1020518 non-null object\n",
      "runtimeMinutes    1020518 non-null object\n",
      "genres            1020518 non-null object\n",
      "rating            1020518 non-null float64\n",
      "num_votes         1020518 non-null int32\n",
      "dtypes: float64(1), int32(1), object(9)\n",
      "memory usage: 89.5+ MB\n"
     ]
    }
   ],
   "source": [
    "movie_df.info()"
   ]
  },
  {
   "cell_type": "markdown",
   "metadata": {},
   "source": [
    "Cleaning"
   ]
  },
  {
   "cell_type": "code",
   "execution_count": 13,
   "metadata": {},
   "outputs": [
    {
     "name": "stdout",
     "output_type": "stream",
     "text": [
      "<class 'pandas.core.frame.DataFrame'>\n",
      "Int64Index: 1020389 entries, 0 to 1020517\n",
      "Data columns (total 11 columns):\n",
      "movie_id          1020389 non-null object\n",
      "titleType         1020389 non-null object\n",
      "primaryTitle      1020389 non-null object\n",
      "originalTitle     1020389 non-null object\n",
      "isAdult           1020389 non-null object\n",
      "startYear         1020389 non-null int32\n",
      "endYear           1020389 non-null object\n",
      "runtimeMinutes    1020389 non-null object\n",
      "genres            1020389 non-null object\n",
      "rating            1020389 non-null float64\n",
      "num_votes         1020389 non-null int32\n",
      "dtypes: float64(1), int32(2), object(8)\n",
      "memory usage: 85.6+ MB\n"
     ]
    }
   ],
   "source": [
    "# deleting records where start year is null\n",
    "movie_df = movie_df[movie_df.startYear != '\\\\N']\n",
    "\n",
    "# converting start year to integer\n",
    "movie_df.startYear = movie_df.startYear.astype('int')\n",
    "\n",
    "movie_df.info()"
   ]
  },
  {
   "cell_type": "markdown",
   "metadata": {},
   "source": [
    "#### Some visualizations"
   ]
  },
  {
   "cell_type": "markdown",
   "metadata": {},
   "source": [
    "All movies by year\n",
    "\n",
    "> More movies are done after 2000."
   ]
  },
  {
   "cell_type": "code",
   "execution_count": 14,
   "metadata": {},
   "outputs": [
    {
     "data": {
      "image/png": "[encoded data removed]",
      "text/plain": [
       "<Figure size 1080x288 with 1 Axes>"
      ]
     },
     "metadata": {
      "needs_background": "light"
     },
     "output_type": "display_data"
    }
   ],
   "source": [
    "plt.figure(figsize=(15,4));\n",
    "sns.distplot(movie_df['startYear'], kde=False);\n",
    "plt.title('Distribution of movies by year');\n",
    "plt.ylabel('count');"
   ]
  },
  {
   "cell_type": "markdown",
   "metadata": {},
   "source": [
    "All movies by number of votes\n",
    "\n",
    "> This didn't show anything. Most movies have very few number of ratings."
   ]
  },
  {
   "cell_type": "code",
   "execution_count": 15,
   "metadata": {},
   "outputs": [
    {
     "data": {
      "image/png": "[encoded data removed]",
      "text/plain": [
       "<Figure size 1080x288 with 1 Axes>"
      ]
     },
     "metadata": {
      "needs_background": "light"
     },
     "output_type": "display_data"
    }
   ],
   "source": [
    "plt.figure(figsize=(15,4));\n",
    "sns.distplot(movie_df['num_votes'], kde=False);\n",
    "plt.title('Distribution of movies by number of votes');\n",
    "plt.ylabel('count');"
   ]
  },
  {
   "cell_type": "markdown",
   "metadata": {},
   "source": [
    "### Selecting movies"
   ]
  },
  {
   "cell_type": "markdown",
   "metadata": {},
   "source": [
    "I have created a point where I multiply the movie's rating with its square root of number of votes. Therefore I tried to get the popular movies with high ratings."
   ]
  },
  {
   "cell_type": "code",
   "execution_count": 16,
   "metadata": {},
   "outputs": [
    {
     "data": {
      "text/html": [
       "<div>\n",
       "<style scoped>\n",
       "    .dataframe tbody tr th:only-of-type {\n",
       "        vertical-align: middle;\n",
       "    }\n",
       "\n",
       "    .dataframe tbody tr th {\n",
       "        vertical-align: top;\n",
       "    }\n",
       "\n",
       "    .dataframe thead th {\n",
       "        text-align: right;\n",
       "    }\n",
       "</style>\n",
       "<table border=\"1\" class=\"dataframe\">\n",
       "  <thead>\n",
       "    <tr style=\"text-align: right;\">\n",
       "      <th></th>\n",
       "      <th>movie_id</th>\n",
       "      <th>titleType</th>\n",
       "      <th>primaryTitle</th>\n",
       "      <th>originalTitle</th>\n",
       "      <th>isAdult</th>\n",
       "      <th>startYear</th>\n",
       "      <th>endYear</th>\n",
       "      <th>runtimeMinutes</th>\n",
       "      <th>genres</th>\n",
       "      <th>rating</th>\n",
       "      <th>num_votes</th>\n",
       "      <th>point</th>\n",
       "    </tr>\n",
       "  </thead>\n",
       "  <tbody>\n",
       "    <tr>\n",
       "      <th>80762</th>\n",
       "      <td>tt0111161</td>\n",
       "      <td>movie</td>\n",
       "      <td>The Shawshank Redemption</td>\n",
       "      <td>The Shawshank Redemption</td>\n",
       "      <td>0</td>\n",
       "      <td>1994</td>\n",
       "      <td>\\N</td>\n",
       "      <td>142</td>\n",
       "      <td>\\N</td>\n",
       "      <td>9.3</td>\n",
       "      <td>2207550</td>\n",
       "      <td>13817.778385</td>\n",
       "    </tr>\n",
       "    <tr>\n",
       "      <th>242048</th>\n",
       "      <td>tt0468569</td>\n",
       "      <td>movie</td>\n",
       "      <td>The Dark Knight</td>\n",
       "      <td>The Dark Knight</td>\n",
       "      <td>0</td>\n",
       "      <td>2008</td>\n",
       "      <td>\\N</td>\n",
       "      <td>152</td>\n",
       "      <td>Action,Crime,Drama</td>\n",
       "      <td>9.0</td>\n",
       "      <td>2187091</td>\n",
       "      <td>13309.935049</td>\n",
       "    </tr>\n",
       "    <tr>\n",
       "      <th>530846</th>\n",
       "      <td>tt1375666</td>\n",
       "      <td>movie</td>\n",
       "      <td>Inception</td>\n",
       "      <td>Inception</td>\n",
       "      <td>0</td>\n",
       "      <td>2010</td>\n",
       "      <td>\\N</td>\n",
       "      <td>148</td>\n",
       "      <td>Action,Adventure,Sci-Fi</td>\n",
       "      <td>8.8</td>\n",
       "      <td>1936206</td>\n",
       "      <td>12244.990512</td>\n",
       "    </tr>\n",
       "    <tr>\n",
       "      <th>414030</th>\n",
       "      <td>tt0944947</td>\n",
       "      <td>tvSeries</td>\n",
       "      <td>Game of Thrones</td>\n",
       "      <td>Game of Thrones</td>\n",
       "      <td>0</td>\n",
       "      <td>2011</td>\n",
       "      <td>2019</td>\n",
       "      <td>57</td>\n",
       "      <td>\\N</td>\n",
       "      <td>9.3</td>\n",
       "      <td>1651691</td>\n",
       "      <td>11952.186185</td>\n",
       "    </tr>\n",
       "    <tr>\n",
       "      <th>80546</th>\n",
       "      <td>tt0110912</td>\n",
       "      <td>movie</td>\n",
       "      <td>Pulp Fiction</td>\n",
       "      <td>Pulp Fiction</td>\n",
       "      <td>0</td>\n",
       "      <td>1994</td>\n",
       "      <td>\\N</td>\n",
       "      <td>154</td>\n",
       "      <td>\\N</td>\n",
       "      <td>8.9</td>\n",
       "      <td>1733848</td>\n",
       "      <td>11719.133930</td>\n",
       "    </tr>\n",
       "    <tr>\n",
       "      <th>96892</th>\n",
       "      <td>tt0137523</td>\n",
       "      <td>movie</td>\n",
       "      <td>Fight Club</td>\n",
       "      <td>Fight Club</td>\n",
       "      <td>0</td>\n",
       "      <td>1999</td>\n",
       "      <td>\\N</td>\n",
       "      <td>139</td>\n",
       "      <td>\\N</td>\n",
       "      <td>8.8</td>\n",
       "      <td>1762094</td>\n",
       "      <td>11681.462210</td>\n",
       "    </tr>\n",
       "    <tr>\n",
       "      <th>79683</th>\n",
       "      <td>tt0109830</td>\n",
       "      <td>movie</td>\n",
       "      <td>Forrest Gump</td>\n",
       "      <td>Forrest Gump</td>\n",
       "      <td>0</td>\n",
       "      <td>1994</td>\n",
       "      <td>\\N</td>\n",
       "      <td>142</td>\n",
       "      <td>Drama,Romance</td>\n",
       "      <td>8.8</td>\n",
       "      <td>1703690</td>\n",
       "      <td>11486.241927</td>\n",
       "    </tr>\n",
       "    <tr>\n",
       "      <th>44910</th>\n",
       "      <td>tt0068646</td>\n",
       "      <td>movie</td>\n",
       "      <td>The Godfather</td>\n",
       "      <td>The Godfather</td>\n",
       "      <td>0</td>\n",
       "      <td>1972</td>\n",
       "      <td>\\N</td>\n",
       "      <td>175</td>\n",
       "      <td>Crime,Drama</td>\n",
       "      <td>9.2</td>\n",
       "      <td>1520512</td>\n",
       "      <td>11344.431924</td>\n",
       "    </tr>\n",
       "    <tr>\n",
       "      <th>111476</th>\n",
       "      <td>tt0167260</td>\n",
       "      <td>movie</td>\n",
       "      <td>The Lord of the Rings: The Return of the King</td>\n",
       "      <td>The Lord of the Rings: The Return of the King</td>\n",
       "      <td>0</td>\n",
       "      <td>2003</td>\n",
       "      <td>\\N</td>\n",
       "      <td>201</td>\n",
       "      <td>\\N</td>\n",
       "      <td>8.9</td>\n",
       "      <td>1567633</td>\n",
       "      <td>11143.258497</td>\n",
       "    </tr>\n",
       "    <tr>\n",
       "      <th>88504</th>\n",
       "      <td>tt0120737</td>\n",
       "      <td>movie</td>\n",
       "      <td>The Lord of the Rings: The Fellowship of the Ring</td>\n",
       "      <td>The Lord of the Rings: The Fellowship of the Ring</td>\n",
       "      <td>0</td>\n",
       "      <td>2001</td>\n",
       "      <td>\\N</td>\n",
       "      <td>178</td>\n",
       "      <td>Action,Adventure,Drama</td>\n",
       "      <td>8.8</td>\n",
       "      <td>1579685</td>\n",
       "      <td>11060.325782</td>\n",
       "    </tr>\n",
       "  </tbody>\n",
       "</table>\n",
       "</div>"
      ],
      "text/plain": [
       "         movie_id titleType  \\\n",
       "80762   tt0111161     movie   \n",
       "242048  tt0468569     movie   \n",
       "530846  tt1375666     movie   \n",
       "414030  tt0944947  tvSeries   \n",
       "80546   tt0110912     movie   \n",
       "96892   tt0137523     movie   \n",
       "79683   tt0109830     movie   \n",
       "44910   tt0068646     movie   \n",
       "111476  tt0167260     movie   \n",
       "88504   tt0120737     movie   \n",
       "\n",
       "                                             primaryTitle  \\\n",
       "80762                            The Shawshank Redemption   \n",
       "242048                                    The Dark Knight   \n",
       "530846                                          Inception   \n",
       "414030                                    Game of Thrones   \n",
       "80546                                        Pulp Fiction   \n",
       "96892                                          Fight Club   \n",
       "79683                                        Forrest Gump   \n",
       "44910                                       The Godfather   \n",
       "111476      The Lord of the Rings: The Return of the King   \n",
       "88504   The Lord of the Rings: The Fellowship of the Ring   \n",
       "\n",
       "                                            originalTitle isAdult  startYear  \\\n",
       "80762                            The Shawshank Redemption       0       1994   \n",
       "242048                                    The Dark Knight       0       2008   \n",
       "530846                                          Inception       0       2010   \n",
       "414030                                    Game of Thrones       0       2011   \n",
       "80546                                        Pulp Fiction       0       1994   \n",
       "96892                                          Fight Club       0       1999   \n",
       "79683                                        Forrest Gump       0       1994   \n",
       "44910                                       The Godfather       0       1972   \n",
       "111476      The Lord of the Rings: The Return of the King       0       2003   \n",
       "88504   The Lord of the Rings: The Fellowship of the Ring       0       2001   \n",
       "\n",
       "       endYear runtimeMinutes                   genres  rating  num_votes  \\\n",
       "80762       \\N            142                       \\N     9.3    2207550   \n",
       "242048      \\N            152       Action,Crime,Drama     9.0    2187091   \n",
       "530846      \\N            148  Action,Adventure,Sci-Fi     8.8    1936206   \n",
       "414030    2019             57                       \\N     9.3    1651691   \n",
       "80546       \\N            154                       \\N     8.9    1733848   \n",
       "96892       \\N            139                       \\N     8.8    1762094   \n",
       "79683       \\N            142            Drama,Romance     8.8    1703690   \n",
       "44910       \\N            175              Crime,Drama     9.2    1520512   \n",
       "111476      \\N            201                       \\N     8.9    1567633   \n",
       "88504       \\N            178   Action,Adventure,Drama     8.8    1579685   \n",
       "\n",
       "               point  \n",
       "80762   13817.778385  \n",
       "242048  13309.935049  \n",
       "530846  12244.990512  \n",
       "414030  11952.186185  \n",
       "80546   11719.133930  \n",
       "96892   11681.462210  \n",
       "79683   11486.241927  \n",
       "44910   11344.431924  \n",
       "111476  11143.258497  \n",
       "88504   11060.325782  "
      ]
     },
     "execution_count": 16,
     "metadata": {},
     "output_type": "execute_result"
    }
   ],
   "source": [
    "# creating point column\n",
    "movie_df['point'] = movie_df['rating']*np.sqrt(movie_df['num_votes'])\n",
    "\n",
    "# sorting dataframe\n",
    "movie_df.sort_values(by=['point'], inplace=True, ascending=False)\n",
    "\n",
    "movie_df.head(10)"
   ]
  },
  {
   "cell_type": "markdown",
   "metadata": {},
   "source": [
    "#### Building some visualizations\n",
    "\n",
    "> If we look at the top rated 5000 movies which have 10k or more votes, we can again see that they are mostly done after 2000."
   ]
  },
  {
   "cell_type": "code",
   "execution_count": 17,
   "metadata": {},
   "outputs": [
    {
     "data": {
      "image/png": "[encoded data removed]",
      "text/plain": [
       "<Figure size 1080x504 with 2 Axes>"
      ]
     },
     "metadata": {
      "needs_background": "light"
     },
     "output_type": "display_data"
    }
   ],
   "source": [
    "selected_df = movie_df[movie_df['num_votes']>10000].sort_values(by=['rating'], ascending=False).head(5000)\n",
    "\n",
    "plt.figure(figsize=(15,7));\n",
    "\n",
    "\n",
    "plt.subplot(1, 2, 1); # 1 row, 2 cols, subplot 1\n",
    "x = selected_df['startYear']\n",
    "y = selected_df['rating']\n",
    "sns.kdeplot(x, y, shade=True);\n",
    "plt.title('KDE plot for movie year and rating');\n",
    "\n",
    "plt.subplot(1, 2, 2) # 1 row, 2 cols, subplot 2\n",
    "x = selected_df['startYear']\n",
    "y = selected_df['num_votes']\n",
    "sns.kdeplot(x, y, shade=True);\n",
    "plt.ylim(0, 100000);\n",
    "plt.title('KDE plot for movie year and number of votes');"
   ]
  },
  {
   "cell_type": "code",
   "execution_count": 18,
   "metadata": {},
   "outputs": [
    {
     "data": {
      "text/plain": [
       "Text(0.5, 1.0, 'If we choose top 250 movies')"
      ]
     },
     "execution_count": 18,
     "metadata": {},
     "output_type": "execute_result"
    },
    {
     "data": {
      "image/png": "[encoded data removed]",
      "text/plain": [
       "<Figure size 1080x504 with 2 Axes>"
      ]
     },
     "metadata": {
      "needs_background": "light"
     },
     "output_type": "display_data"
    }
   ],
   "source": [
    "plt.figure(figsize=(15,7));\n",
    "\n",
    "plt.subplot(1, 2, 1); # 1 row, 2 cols, subplot 1\n",
    "selected_df = movie_df.head(1000)\n",
    "\n",
    "sns.scatterplot(x=\"num_votes\", y=\"rating\", data=selected_df)\n",
    "plt.axvline(x=selected_df['num_votes'].mean(), color='red')\n",
    "plt.axhline(y=selected_df['rating'].mean(), color='red')\n",
    "plt.xscale('log')\n",
    "plt.title('If we choose top 1000 movies')\n",
    "\n",
    "\n",
    "\n",
    "plt.subplot(1, 2, 2); # 1 row, 2 cols, subplot 2\n",
    "selected_df = movie_df.head(250)\n",
    "\n",
    "sns.scatterplot(x=\"num_votes\", y=\"rating\", data=selected_df)\n",
    "plt.axvline(x=selected_df['num_votes'].mean(), color='red')\n",
    "plt.axhline(y=selected_df['rating'].mean(), color='red')\n",
    "plt.xscale('log')\n",
    "plt.title('If we choose top 250 movies')"
   ]
  },
  {
   "cell_type": "markdown",
   "metadata": {},
   "source": [
    "### Exporting data"
   ]
  },
  {
   "cell_type": "code",
   "execution_count": 25,
   "metadata": {},
   "outputs": [
    {
     "name": "stdout",
     "output_type": "stream",
     "text": [
      "   rank   movie_id titleType              primaryTitle  \\\n",
      "0     0  tt0111161     movie  The Shawshank Redemption   \n",
      "1     1  tt0468569     movie           The Dark Knight   \n",
      "2     2  tt1375666     movie                 Inception   \n",
      "3     3  tt0944947  tvSeries           Game of Thrones   \n",
      "4     4  tt0110912     movie              Pulp Fiction   \n",
      "\n",
      "              originalTitle isAdult  startYear endYear runtimeMinutes  \\\n",
      "0  The Shawshank Redemption       0       1994      \\N            142   \n",
      "1           The Dark Knight       0       2008      \\N            152   \n",
      "2                 Inception       0       2010      \\N            148   \n",
      "3           Game of Thrones       0       2011    2019             57   \n",
      "4              Pulp Fiction       0       1994      \\N            154   \n",
      "\n",
      "                    genres  rating  num_votes         point  \n",
      "0                       \\N     9.3    2207550  13817.778385  \n",
      "1       Action,Crime,Drama     9.0    2187091  13309.935049  \n",
      "2  Action,Adventure,Sci-Fi     8.8    1936206  12244.990512  \n",
      "3                       \\N     9.3    1651691  11952.186185  \n",
      "4                       \\N     8.9    1733848  11719.133930  \n"
     ]
    }
   ],
   "source": [
    "selected_df = movie_df.head(500)\n",
    "selected_df.reset_index(drop=True, inplace=True)\n",
    "selected_df.reset_index(drop=False, inplace=True)\n",
    "selected_df.rename(columns={\"index\": \"rank\"}, inplace=True)\n",
    "\n",
    "\n",
    "print(selected_df.head())\n",
    "selected_df.to_excel('data.xlsx',sheet_name='Sheet1', index=False)"
   ]
  },
  {
   "cell_type": "code",
   "execution_count": null,
   "metadata": {},
   "outputs": [],
   "source": []
  }
 ],
 "metadata": {
  "kernelspec": {
   "display_name": "Python 3",
   "language": "python",
   "name": "python3"
  },
  "language_info": {
   "codemirror_mode": {
    "name": "ipython",
    "version": 3
   },
   "file_extension": ".py",
   "mimetype": "text/x-python",
   "name": "python",
   "nbconvert_exporter": "python",
   "pygments_lexer": "ipython3",
   "version": "3.7.3"
  }
 },
 "nbformat": 4,
 "nbformat_minor": 2
}
